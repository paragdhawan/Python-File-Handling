{
 "cells": [
  {
   "cell_type": "markdown",
   "metadata": {
    "toc": true
   },
   "source": [
    "<h1>Table of Contents<span class=\"tocSkip\"></span></h1>\n",
    "<div class=\"toc\"><ul class=\"toc-item\"><li><span><a href=\"#How-to-Create-a-File\" data-toc-modified-id=\"How-to-Create-a-File-1\"><span class=\"toc-item-num\">1&nbsp;&nbsp;</span>How to Create a File</a></span></li><li><span><a href=\"#How-to-Append-Data-to-a-File\" data-toc-modified-id=\"How-to-Append-Data-to-a-File-2\"><span class=\"toc-item-num\">2&nbsp;&nbsp;</span>How to Append Data to a File</a></span></li><li><span><a href=\"#How-to-Read-a-File\" data-toc-modified-id=\"How-to-Read-a-File-3\"><span class=\"toc-item-num\">3&nbsp;&nbsp;</span>How to Read a File</a></span></li><li><span><a href=\"#Check-the-info-of-functions-available-and-their-description\" data-toc-modified-id=\"Check-the-info-of-functions-available-and-their-description-4\"><span class=\"toc-item-num\">4&nbsp;&nbsp;</span>Check the info of functions available and their description</a></span></li><li><span><a href=\"#Read-the-content-of-using-readlines-function\" data-toc-modified-id=\"Read-the-content-of-using-readlines-function-5\"><span class=\"toc-item-num\">5&nbsp;&nbsp;</span>Read the content of using readlines function</a></span></li><li><span><a href=\"#Using-‘with’-clause\" data-toc-modified-id=\"Using-‘with’-clause-6\"><span class=\"toc-item-num\">6&nbsp;&nbsp;</span>Using ‘with’ clause</a></span></li><li><span><a href=\"#Pickleing-and-Unpickling-in-python\" data-toc-modified-id=\"Pickleing-and-Unpickling-in-python-7\"><span class=\"toc-item-num\">7&nbsp;&nbsp;</span>Pickleing and Unpickling in python</a></span></li><li><span><a href=\"#The-shelve-module\" data-toc-modified-id=\"The-shelve-module-8\"><span class=\"toc-item-num\">8&nbsp;&nbsp;</span>The shelve module</a></span><ul class=\"toc-item\"><li><span><a href=\"#storing-data-into-file-(persistent-data-storage)\" data-toc-modified-id=\"storing-data-into-file-(persistent-data-storage)-8.1\"><span class=\"toc-item-num\">8.1&nbsp;&nbsp;</span>storing data into file (persistent data storage)</a></span></li><li><span><a href=\"#retriving-stored-data-later\" data-toc-modified-id=\"retriving-stored-data-later-8.2\"><span class=\"toc-item-num\">8.2&nbsp;&nbsp;</span>retriving stored data later</a></span></li></ul></li><li><span><a href=\"#Copying-the-content-of-one-file-into-another-file\" data-toc-modified-id=\"Copying-the-content-of-one-file-into-another-file-9\"><span class=\"toc-item-num\">9&nbsp;&nbsp;</span>Copying the content of one file into another file</a></span></li><li><span><a href=\"#Counting-spaces,-tabs-and-new-lines-in-a-file\" data-toc-modified-id=\"Counting-spaces,-tabs-and-new-lines-in-a-file-10\"><span class=\"toc-item-num\">10&nbsp;&nbsp;</span>Counting spaces, tabs and new lines in a file</a></span></li><li><span><a href=\"#Example-of-working-with-Binary-File\" data-toc-modified-id=\"Example-of-working-with-Binary-File-11\"><span class=\"toc-item-num\">11&nbsp;&nbsp;</span>Example of working with Binary File</a></span></li></ul></div>"
   ]
  },
  {
   "cell_type": "markdown",
   "metadata": {},
   "source": [
    "- A file is some information or data which stays in the computer storage devices. \n",
    "\n",
    "- Python gives you easy ways to manipulate these files. \n",
    "\n",
    "- Generally we divide files in two categories, text file and binary file. \n",
    "\n",
    "- Text files are simple text where as the binary files contain binary data which is only readable by computer."
   ]
  },
  {
   "cell_type": "markdown",
   "metadata": {},
   "source": [
    "“r” Opens the file in read only mode and this is the default mode.\n",
    "\n",
    "“w” Opens the file for writing. If a file already exists, then it’ll get overwritten. If the file does not exist, then it creates a new file.\n",
    "\n",
    "“a” Opens the file for appending data at the end of the file automatically. If the file does not exist it creates a new file.\n",
    "\n",
    "“r+” Opens the file for both reading and writing.\n",
    "\n",
    "“w+” Opens the file for reading and writing. If the file does not exist it creates a new file. If a file already exists then it will get overwritten.\n",
    "\n",
    "“a+” Opens the file for reading and appending. If a file already exists, the data is appended. If the file does not exist it creates a new file.\n",
    "\n",
    "“x” Creates a new file. If the file already exists, the operation fails.\n",
    "\n",
    "“rb” Opens the binary file in read-only mode.\n",
    "\n",
    "“wb” Opens the file for writing the data in binary format.\n",
    "\n",
    "“rb+” Opens the file for both reading and writing in binary format."
   ]
  },
  {
   "cell_type": "markdown",
   "metadata": {},
   "source": [
    "# How to Create a File"
   ]
  },
  {
   "cell_type": "code",
   "execution_count": null,
   "metadata": {},
   "outputs": [],
   "source": [
    "fobj = open(\"aexample.txt\",\"w\") "
   ]
  },
  {
   "cell_type": "code",
   "execution_count": null,
   "metadata": {},
   "outputs": [],
   "source": [
    "for i in range(0,10):\n",
    "    fobj.write(f\" line no is {i} \\n\")"
   ]
  },
  {
   "cell_type": "code",
   "execution_count": null,
   "metadata": {},
   "outputs": [],
   "source": [
    "fobj.close()"
   ]
  },
  {
   "cell_type": "markdown",
   "metadata": {},
   "source": [
    "# How to Append Data to a File "
   ]
  },
  {
   "cell_type": "code",
   "execution_count": null,
   "metadata": {},
   "outputs": [],
   "source": [
    "steps 1. open the file which is to be appended.\n",
    "      2. upadte the file.(append the data into file )\n",
    "      3. close the file.\n",
    "\n",
    "fobj = open(\"aexample.txt\",\"a\")\n",
    "\n",
    "for i in range(0,10):\n",
    "    fobj.write(f\" line no is {i+10} \\n\")\n",
    "\n",
    "fobj.close()"
   ]
  },
  {
   "cell_type": "markdown",
   "metadata": {},
   "source": [
    "# How to Read a File"
   ]
  },
  {
   "cell_type": "markdown",
   "metadata": {},
   "source": [
    "Steps 1: open the file in read mode\n",
    "    2: use read function (to read the contents of file).\n",
    "    3: close the file."
   ]
  },
  {
   "cell_type": "code",
   "execution_count": null,
   "metadata": {},
   "outputs": [],
   "source": [
    "fobj = open(\"one.txt\", \"r\")\n",
    "\n",
    "c = fobj.read()\n",
    "\n",
    "print(c)\n",
    "\n",
    "fobj.close()"
   ]
  },
  {
   "cell_type": "markdown",
   "metadata": {},
   "source": [
    "# Check the info of functions available and their description"
   ]
  },
  {
   "cell_type": "code",
   "execution_count": null,
   "metadata": {},
   "outputs": [],
   "source": [
    "fobj = open(\"one.txt\", \"r\")"
   ]
  },
  {
   "cell_type": "code",
   "execution_count": null,
   "metadata": {},
   "outputs": [],
   "source": [
    "dir(fobj)"
   ]
  },
  {
   "cell_type": "code",
   "execution_count": null,
   "metadata": {},
   "outputs": [],
   "source": [
    "help(fobj.read)"
   ]
  },
  {
   "cell_type": "code",
   "execution_count": null,
   "metadata": {},
   "outputs": [],
   "source": [
    "help(fobj.readable)"
   ]
  },
  {
   "cell_type": "code",
   "execution_count": null,
   "metadata": {},
   "outputs": [],
   "source": [
    "help(fobj.readline)"
   ]
  },
  {
   "cell_type": "code",
   "execution_count": null,
   "metadata": {},
   "outputs": [],
   "source": [
    "help(fobj.readlines)"
   ]
  },
  {
   "cell_type": "markdown",
   "metadata": {},
   "source": [
    "# Read the content of using readlines function"
   ]
  },
  {
   "cell_type": "markdown",
   "metadata": {},
   "source": [
    "steps 1: open the file in read mode.\n",
    "      2. call readlines function.\n",
    "      3. process the information.\n",
    "      4. close the file."
   ]
  },
  {
   "cell_type": "code",
   "execution_count": null,
   "metadata": {},
   "outputs": [],
   "source": [
    "fobj=open(\"one.txt\",\"r\")\n",
    "\n",
    "var = fobj.readlines()\n",
    "\n",
    "for l in var:\n",
    "    print(l)\n",
    "\n",
    "var[6]\n",
    "\n",
    "var\n",
    "\n",
    "print(type(var))\n",
    "\n",
    "fobj.close()"
   ]
  },
  {
   "cell_type": "markdown",
   "metadata": {},
   "source": [
    "# Using ‘with’ clause "
   ]
  },
  {
   "cell_type": "markdown",
   "metadata": {},
   "source": [
    "The advantage is that the file will be automatically closed after the indented block after the with has finished execution: "
   ]
  },
  {
   "cell_type": "code",
   "execution_count": null,
   "metadata": {},
   "outputs": [],
   "source": [
    "with open(\"two.txt\", \"w\") as fobj: \n",
    "    fobj.write(\"learning codeing is easy \\n Just you need to follow all the syntax\") "
   ]
  },
  {
   "cell_type": "code",
   "execution_count": null,
   "metadata": {},
   "outputs": [],
   "source": [
    "with open(\"two.txt \",\"r\") as fobj: \n",
    "    for line in fobj:\n",
    "        print(line)"
   ]
  },
  {
   "cell_type": "markdown",
   "metadata": {},
   "source": [
    "# Pickleing and Unpickling in python "
   ]
  },
  {
   "cell_type": "code",
   "execution_count": null,
   "metadata": {},
   "outputs": [],
   "source": [
    "import pickle\n",
    "\n",
    "tour = {\"cities\":['paris','newdelhi','mumbai','surat'],\n",
    "        \"hostels\":[\"taj\",\"pride\",\"Radisson\"]}\n",
    "\n",
    "fh = open (\"data.pkl\",\"bw\")\n",
    "\n",
    "pickle.dump(tour,fh)\n",
    "\n",
    "fh.close()\n",
    "\n",
    "import pickle\n",
    "\n",
    "f = open (\"data.pkl\",\"rb\")\n",
    "\n",
    "new_tour = pickle.load(f)\n",
    "\n",
    "print(new_tour)\n",
    "\n",
    "f.close()"
   ]
  },
  {
   "cell_type": "markdown",
   "metadata": {},
   "source": [
    "With the algorithms of the pickle module we can serialize and de-serialize Python object structures.\n",
    "\n",
    " \"Pickling\" denotes the process which converts a Python object hierarchy into a byte stream, and \n",
    " \n",
    " \"unpickling\" on the other hand is the inverse operation, i.e. the byte stream is converted back into an object hierarchy. \n",
    " \n",
    " What we call pickling (and unpickling) is also known as \"serialization\" or \"flattening\" a data structure.  \n",
    " \n",
    " Objects which have been dumped to a file with pickle.dump can be reread into a program by using the method pickle.load(file). \n",
    " \n",
    " pickle.load() recognizes automatically, which format had been used for writing the data. \n",
    " \n",
    " The file data.pkl can be read in again by Python in the same or another session or by a different program\n"
   ]
  },
  {
   "cell_type": "markdown",
   "metadata": {},
   "source": [
    "Pickle in Python is primarily used in serializing and deserializing a Python object structure. In other words, it’s the process of converting a Python object into a byte stream to store it in a file/database, maintain program state across sessions, or transport data over the network. The pickled byte stream can be used to re-create the original object hierarchy by unpickling the stream."
   ]
  },
  {
   "cell_type": "markdown",
   "metadata": {},
   "source": [
    "# The shelve module"
   ]
  },
  {
   "cell_type": "markdown",
   "metadata": {},
   "source": [
    "## storing data into file (persistent data storage)"
   ]
  },
  {
   "cell_type": "markdown",
   "metadata": {},
   "source": [
    "import shelve\n",
    "\n",
    "s = shelve.open(\"MyShelve\")\n",
    "\n",
    "s[\"street\"] = \"Main Road\"\n",
    "\n",
    "s[\"city\"] = \"New Delhi\"\n",
    "\n",
    "for key in s:\n",
    "    print(key)\n",
    "\n",
    "s.close()"
   ]
  },
  {
   "cell_type": "markdown",
   "metadata": {},
   "source": [
    "## retriving stored data later"
   ]
  },
  {
   "cell_type": "markdown",
   "metadata": {},
   "source": [
    "s = shelve.open(\"MyShelve\")\n",
    "\n",
    "print(s[\"street\"])\n",
    "\n",
    "print(s[\"city\"])\n",
    "\n",
    "s.close()"
   ]
  },
  {
   "cell_type": "markdown",
   "metadata": {},
   "source": [
    "One drawback of the pickle module is that it is only capable of pickling one object at the time, which has to be unpickled in one go. \n",
    "\n",
    "Let's imagine this data object is a dictionary. It may be desirable that we don't have to save and load every time the whole dictionary, but save and load just a single value corresponding to just one key. \n",
    "\n",
    "The shelve module is the solution to this request. A \"shelf\" - as used in the shelve module - is a persistent, dictionary-like object. \n",
    "\n",
    "The shelve module can be easily used. Actually, it is as easy as using a dictionary in Python. \n",
    "\n",
    "Before we can use a shelf object, we have to import the module. \n",
    "\n",
    "After this, we have to open a shelve object with the shelve method open. The open method opens a special shelf file for reading and writing\n"
   ]
  },
  {
   "cell_type": "markdown",
   "metadata": {},
   "source": [
    "# Copying the content of one file into another file "
   ]
  },
  {
   "cell_type": "code",
   "execution_count": null,
   "metadata": {},
   "outputs": [],
   "source": [
    "with open(\"two.txt\",\"r\") as f:\n",
    "    for l in f:\n",
    "        print(l)"
   ]
  },
  {
   "cell_type": "code",
   "execution_count": null,
   "metadata": {},
   "outputs": [],
   "source": [
    "with open(\"two.txt\",\"r\") as f:\n",
    "    with open(\"three.txt\", \"w\") as f1:\n",
    "        for l in f:\n",
    "            f1.write(l)"
   ]
  },
  {
   "cell_type": "code",
   "execution_count": null,
   "metadata": {},
   "outputs": [],
   "source": [
    "with open(\"three.txt \",\"r\") as fobj: \n",
    "    for l in fobj:\n",
    "        print(l)"
   ]
  },
  {
   "cell_type": "markdown",
   "metadata": {},
   "source": [
    "# Counting spaces, tabs and new lines in a file"
   ]
  },
  {
   "cell_type": "code",
   "execution_count": null,
   "metadata": {},
   "outputs": [],
   "source": [
    "filename = input (\"Enter the filename: \")\n",
    "\n",
    "with open(filename) as file:\n",
    "    text=file.read()\n",
    "    tab=0\n",
    "    space=0\n",
    "    newline=0\n",
    "    \n",
    "    for char in text:\n",
    "        if char=='\\t':\n",
    "            tab+=1\n",
    "        if char==' ':\n",
    "            space+=1\n",
    "        if char=='\\n':\n",
    "            newline+=1\n",
    "            \n",
    "print(\"Tabs are present in these file are \", tab)\n",
    "print(\"Spaces are present in these file are \", space)\n",
    "print(\"Newlines are present in these file are \", newline)"
   ]
  },
  {
   "cell_type": "code",
   "execution_count": null,
   "metadata": {},
   "outputs": [],
   "source": [
    "with open(\"three.txt\") as file:\n",
    "    for l in file:\n",
    "        print(l)"
   ]
  },
  {
   "cell_type": "markdown",
   "metadata": {},
   "source": [
    "# Example of working with Binary File"
   ]
  },
  {
   "cell_type": "code",
   "execution_count": 1,
   "metadata": {},
   "outputs": [],
   "source": [
    "f = open(\"binfile.bin\",\"wb\")\n",
    "\n",
    "num = [5, 10, 15, 20, 25]\n",
    "\n",
    "arr = bytearray(num)\n",
    "\n",
    "f.write(arr)\n",
    "\n",
    "f.close()"
   ]
  },
  {
   "cell_type": "code",
   "execution_count": 2,
   "metadata": {},
   "outputs": [
    {
     "name": "stdout",
     "output_type": "stream",
     "text": [
      "[5, 10, 15, 20, 25]\n"
     ]
    }
   ],
   "source": [
    "f=open(\"binfile.bin\",\"rb\")\n",
    "\n",
    "num=list(f.read())\n",
    "\n",
    "print (num)\n",
    "\n",
    "f.close()"
   ]
  }
 ],
 "metadata": {
  "kernelspec": {
   "display_name": "Python 3",
   "language": "python",
   "name": "python3"
  },
  "language_info": {
   "codemirror_mode": {
    "name": "ipython",
    "version": 3
   },
   "file_extension": ".py",
   "mimetype": "text/x-python",
   "name": "python",
   "nbconvert_exporter": "python",
   "pygments_lexer": "ipython3",
   "version": "3.7.4"
  },
  "toc": {
   "base_numbering": 1,
   "nav_menu": {},
   "number_sections": true,
   "sideBar": true,
   "skip_h1_title": false,
   "title_cell": "Table of Contents",
   "title_sidebar": "File Handling in Python",
   "toc_cell": true,
   "toc_position": {
    "height": "calc(100% - 180px)",
    "left": "10px",
    "top": "150px",
    "width": "174px"
   },
   "toc_section_display": true,
   "toc_window_display": true
  }
 },
 "nbformat": 4,
 "nbformat_minor": 2
}
